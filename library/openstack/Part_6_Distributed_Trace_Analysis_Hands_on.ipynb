{
 "cells": [
  {
   "cell_type": "code",
   "execution_count": 1,
   "metadata": {},
   "outputs": [],
   "source": [
    "import datetime\n",
    "import json\n",
    "import pprint\n",
    "import pandas as pd\n",
    "import numpy as np\n",
    "import matplotlib.pyplot as plt\n",
    "import seaborn as sns\n",
    "\n",
    "import redis"
   ]
  },
  {
   "cell_type": "markdown",
   "metadata": {},
   "source": [
    "# Generate Traces\n",
    "\n",
    "Generate 100 traces for the openstack command image list:\n",
    "+ $ for i in {1..100}; do openstack image list --os-profile SECRET_KEY; done \n",
    "\n",
    "List/show the traces generated:\n",
    "+ osprofiler trace list --connection-string redis://localhost:6379 "
   ]
  },
  {
   "cell_type": "markdown",
   "metadata": {},
   "source": [
    "# Inspect Redis\n",
    "Inspect the traces ids stored in Redis using Python redis library"
   ]
  },
  {
   "cell_type": "code",
   "execution_count": 2,
   "metadata": {
    "scrolled": true
   },
   "outputs": [
    {
     "name": "stdout",
     "output_type": "stream",
     "text": [
      "# base traces: 100\n"
     ]
    },
    {
     "data": {
      "text/plain": [
       "[b'osprofiler_opt:8936de06-bbf3-47a5-b86c-a3b960667538',\n",
       " b'osprofiler_opt:8d53535a-ddb4-4c8f-bbcb-1cde0a8a5b42',\n",
       " b'osprofiler_opt:97a91378-08e5-4a24-adeb-6e007d9494b8',\n",
       " b'osprofiler_opt:587aeb38-bb14-4dcd-b700-9167cec66ab8',\n",
       " b'osprofiler_opt:8b50d7aa-5597-4478-9331-b5df1ae3e65f',\n",
       " b'osprofiler_opt:4ed27c73-ecec-411d-b931-e00f8c2a2af3',\n",
       " b'osprofiler_opt:9478baae-2a54-4a54-b037-f6c5af499f91',\n",
       " b'osprofiler_opt:05084b40-2560-4108-aa89-6bc6514709f3',\n",
       " b'osprofiler_opt:9ea489f4-b591-4b44-a60d-c653e523527a',\n",
       " b'osprofiler_opt:6a67db1d-d997-423e-816e-ad148f6552bc',\n",
       " b'osprofiler_opt:898f3f7d-7470-417a-a481-6749c9c8b5f3',\n",
       " b'osprofiler_opt:4d7e2dda-266c-419d-90b1-8e413e9b88a4',\n",
       " b'osprofiler_opt:fd963416-46f4-4564-966b-09e02d741531',\n",
       " b'osprofiler_opt:68a86079-7add-49d1-9bf4-892d5c3bb883',\n",
       " b'osprofiler_opt:71aa5063-10db-4836-9c93-ed24f04ef705',\n",
       " b'osprofiler_opt:bebfab87-7a3a-4ea8-a5b7-2761993266fb',\n",
       " b'osprofiler_opt:df4a4e20-123c-4a22-ac92-0cf98a092de0',\n",
       " b'osprofiler_opt:dd4048ce-374b-4ca3-a602-3fc6f4f87078',\n",
       " b'osprofiler_opt:c9c985a0-a75d-4f26-a0f7-e53edae3826f',\n",
       " b'osprofiler_opt:16fe5d53-4b36-4120-93e1-bf13898fb251',\n",
       " b'osprofiler_opt:321de31a-f834-488c-bb46-6414dc99ce4e',\n",
       " b'osprofiler_opt:73266f44-a874-4a7e-9364-852f3ad753d1',\n",
       " b'osprofiler_opt:0c428b61-da69-413c-aacb-b47547753705',\n",
       " b'osprofiler_opt:6db9d5f6-96a3-473f-a4eb-f6416ad2df4b',\n",
       " b'osprofiler_opt:ae213761-7568-49c6-a874-ff26f238cd33',\n",
       " b'osprofiler_opt:1510cc56-f1f2-4a58-b540-084add06e14a',\n",
       " b'osprofiler_opt:0a50bb7d-e42e-419a-bf82-8312ebce94f5',\n",
       " b'osprofiler_opt:5342a28b-4fd5-4a57-82ec-0ed383eceee7',\n",
       " b'osprofiler_opt:825763d5-debe-407c-a7aa-c37d818dd5a7',\n",
       " b'osprofiler_opt:3e767a4f-427f-4483-84ff-8ae5d3963e66',\n",
       " b'osprofiler_opt:635a3c63-170e-48b0-af87-f6a30bb17208',\n",
       " b'osprofiler_opt:88aab874-3f96-4bbb-b6aa-42e76981646a',\n",
       " b'osprofiler_opt:c1c0862e-a6b2-45c7-9560-ebb61c6603ba',\n",
       " b'osprofiler_opt:51bdf1a8-c07b-4f41-9980-3ce0bda95049',\n",
       " b'osprofiler_opt:ca261efa-5d97-43ba-8b06-53d4d5ff30a0',\n",
       " b'osprofiler_opt:0fe347c0-a58b-45e1-8937-d15f298fdba6',\n",
       " b'osprofiler_opt:03212b4f-8943-4b23-aa2a-6601bc6e0ae0',\n",
       " b'osprofiler_opt:c6714c1e-7ee1-40f1-b879-49ceadf99eba',\n",
       " b'osprofiler_opt:ddecc2c5-f715-44f3-a8cf-f2323203f392',\n",
       " b'osprofiler_opt:e940a673-9698-4ead-bf6d-397fd5c4188f',\n",
       " b'osprofiler_opt:7ea509a1-d53f-48d6-a3a6-9d4a43053438',\n",
       " b'osprofiler_opt:3b9497a7-fcb5-44b0-969b-e7188b5b954e',\n",
       " b'osprofiler_opt:8804cc8b-2b73-47bf-b5d6-159f96f393a1',\n",
       " b'osprofiler_opt:ba770af8-ffc1-408a-aaa4-9d814682f6c9',\n",
       " b'osprofiler_opt:8e017f4b-7301-4459-90a3-3d01596773cd',\n",
       " b'osprofiler_opt:07dcc10d-6396-49cf-b18d-61fca40d4cfa',\n",
       " b'osprofiler_opt:4fc54491-3bd5-4844-8cef-d87ef2ce5e5a',\n",
       " b'osprofiler_opt:a852f2b0-e8f8-4a15-90ab-59874e690f1b',\n",
       " b'osprofiler_opt:5dae25ae-f74d-4ec0-b854-146281d522f2',\n",
       " b'osprofiler_opt:60d76a31-0e54-4d4c-a69c-c3f3cde1116d',\n",
       " b'osprofiler_opt:fc56a1e9-c28c-4a58-8692-fa80f0f7f463',\n",
       " b'osprofiler_opt:e045721d-d54d-42dc-a7cc-1d3b5f697228',\n",
       " b'osprofiler_opt:a485f034-dafd-440d-add5-7b6a481afce9',\n",
       " b'osprofiler_opt:370e79f1-9b0f-442a-978b-481bdd002da2',\n",
       " b'osprofiler_opt:9ccc6e37-2ffa-445b-bf0e-733e9b9db400',\n",
       " b'osprofiler_opt:2e8715cf-8d80-46e0-aa48-7403a6606eb2',\n",
       " b'osprofiler_opt:c13ed39b-2b75-42ea-98e0-cd96f86c0d0f',\n",
       " b'osprofiler_opt:0f1a4778-047c-4d16-96c3-e5ac4c74d522',\n",
       " b'osprofiler_opt:24e517d7-aeda-4ce3-b3bd-dd09877e2a10',\n",
       " b'osprofiler_opt:3a617580-3345-4720-9de6-c16623bb5b8e',\n",
       " b'osprofiler_opt:fe53d77f-8e15-4013-b1b8-0cdcd4fc04c6',\n",
       " b'osprofiler_opt:99691deb-1795-4922-b2da-5b3b4b448cd9',\n",
       " b'osprofiler_opt:2e746f65-0e42-4d9f-8642-1f777bb49282',\n",
       " b'osprofiler_opt:be80667c-fc81-44c7-b87e-5fbf49ca7a9b',\n",
       " b'osprofiler_opt:d07dd6ac-c87b-431b-bda8-6dc2d6ebe40d',\n",
       " b'osprofiler_opt:4bc9d9fa-347c-4293-b196-0c0f40f665d8',\n",
       " b'osprofiler_opt:4326a7f2-2532-4ebd-aa61-1963a936f1f6',\n",
       " b'osprofiler_opt:38717f5f-7738-4ab5-9389-a80af9454711',\n",
       " b'osprofiler_opt:19ce8397-2a7e-475e-b85f-0dc5d1ce31e6',\n",
       " b'osprofiler_opt:82d403dd-7a39-45e7-992d-5967bd86c08b',\n",
       " b'osprofiler_opt:76dea516-bf1c-41b3-aa3f-f3ef79d9e44a',\n",
       " b'osprofiler_opt:5c6318fe-db77-4e71-8e36-0d40e8eb6339',\n",
       " b'osprofiler_opt:a03a0712-7502-4720-8366-1068f52e92eb',\n",
       " b'osprofiler_opt:78f40e9e-70a0-4ca3-9b20-feba659ff2f7',\n",
       " b'osprofiler_opt:6d86928d-6fef-4e53-b135-2ebca3fc931d',\n",
       " b'osprofiler_opt:5fe220ef-4291-40b3-9ab8-20a900123aa7',\n",
       " b'osprofiler_opt:91605aa6-521d-4ec2-a649-ed76dea0aafc',\n",
       " b'osprofiler_opt:1233b53d-1a69-4c7c-82dd-3ec9593795a8',\n",
       " b'osprofiler_opt:5fa7eae4-d636-4312-9d27-78d782f0c131',\n",
       " b'osprofiler_opt:bb64f92f-9f23-4a9d-9b82-6a576edffc77',\n",
       " b'osprofiler_opt:5549c17a-54cf-4697-a9d8-d74a87f235f2',\n",
       " b'osprofiler_opt:562ddf27-efa5-4ead-a540-27b616a01db5',\n",
       " b'osprofiler_opt:5dba47c8-d040-4298-a370-df62d52c525a',\n",
       " b'osprofiler_opt:136152ae-a62d-419d-82fe-3eb8daae1d54',\n",
       " b'osprofiler_opt:f8e855c5-954b-4a4b-ab16-ffefbfd836a8',\n",
       " b'osprofiler_opt:da58e953-869c-4be2-9749-a1968dc93fb5',\n",
       " b'osprofiler_opt:1ec9319b-a255-4438-a3ea-b0168e8cb34d',\n",
       " b'osprofiler_opt:41234f22-11e1-4374-88a9-820645e54732',\n",
       " b'osprofiler_opt:4d8ae620-00c8-447e-a4ae-b8656d0ff6b2',\n",
       " b'osprofiler_opt:2beb669a-0e87-4ebe-910a-5dff537eea9f',\n",
       " b'osprofiler_opt:c5945ba2-6ed6-4d47-b969-f0f015f320b7',\n",
       " b'osprofiler_opt:471dd327-bf0e-4a6f-a0ef-41db8785ad32',\n",
       " b'osprofiler_opt:6ac4910c-8d75-497b-8825-957b5919fedb',\n",
       " b'osprofiler_opt:404148d2-45ed-48af-b306-de46204178ef',\n",
       " b'osprofiler_opt:d1dde270-101d-4788-8172-2ae1656badc0',\n",
       " b'osprofiler_opt:62369667-fc9e-48ac-a560-bfef2777de2d',\n",
       " b'osprofiler_opt:b2ef41e8-4486-4916-b044-12640c50eb9b',\n",
       " b'osprofiler_opt:23f3566b-e884-4ed7-8438-391205c01c20',\n",
       " b'osprofiler_opt:5ff9f1b4-38b2-4022-9f70-db39b05db8fc',\n",
       " b'osprofiler_opt:a4d5440c-5373-4002-af9b-5a9427de767c']"
      ]
     },
     "execution_count": 2,
     "metadata": {},
     "output_type": "execute_result"
    }
   ],
   "source": [
    "r = redis.Redis()\n",
    "base_trace_ids = r.keys(\"osprofiler_opt:*\")\n",
    "print('# base traces:', len(base_trace_ids))\n",
    "base_trace_ids"
   ]
  },
  {
   "cell_type": "markdown",
   "metadata": {},
   "source": [
    "# Single Trace Analysis\n",
    "+ Retrieve the first trace\n",
    "+ Remove the spans which describe a database access\n",
    "+ Identify the span that had the longest duration"
   ]
  },
  {
   "cell_type": "code",
   "execution_count": 5,
   "metadata": {},
   "outputs": [
    {
     "name": "stdout",
     "output_type": "stream",
     "text": [
      "Retrieving trace id b'osprofiler_opt:8936de06-bbf3-47a5-b86c-a3b960667538'\n",
      "Base trace len: 12\n"
     ]
    }
   ],
   "source": [
    "print('Retrieving base trace id', base_trace_ids[0])\n",
    "span_lst = r.lrange(base_trace_ids[0], 0, -1)\n",
    "span_lst_short = []\n",
    "for span in span_lst:\n",
    "    span = json.loads(span)\n",
    "    if 'db-' in span['name']:\n",
    "        continue\n",
    "    span_lst_short.append(span)\n",
    "print('Base trace len:', len(span_lst_short))"
   ]
  },
  {
   "cell_type": "code",
   "execution_count": 6,
   "metadata": {
    "scrolled": true
   },
   "outputs": [
    {
     "name": "stdout",
     "output_type": "stream",
     "text": [
      "{'base_id': '8936de06-bbf3-47a5-b86c-a3b960667538',\n",
      " 'info': {'host': 'osboxes'},\n",
      " 'name': 'wsgi-stop',\n",
      " 'parent_id': '8936de06-bbf3-47a5-b86c-a3b960667538',\n",
      " 'project': 'glance',\n",
      " 'service': 'api',\n",
      " 'timestamp': '2019-12-04T08:18:45.478038',\n",
      " 'trace_id': '1cef1dbe-5b10-453c-b9a8-786e53ad141f'}\n",
      "{'base_id': '8936de06-bbf3-47a5-b86c-a3b960667538',\n",
      " 'info': {'host': 'osboxes',\n",
      "          'request': {'method': 'GET',\n",
      "                      'path': '/v2/images',\n",
      "                      'query': 'marker=49e6b32c-6da0-49c8-9501-f7cb5d24fc03',\n",
      "                      'scheme': 'http'}},\n",
      " 'name': 'wsgi-start',\n",
      " 'parent_id': '8936de06-bbf3-47a5-b86c-a3b960667538',\n",
      " 'project': 'glance',\n",
      " 'service': 'api',\n",
      " 'timestamp': '2019-12-04T08:18:45.460197',\n",
      " 'trace_id': '1cef1dbe-5b10-453c-b9a8-786e53ad141f'}\n",
      "{'base_id': '8936de06-bbf3-47a5-b86c-a3b960667538',\n",
      " 'info': {'host': 'osboxes'},\n",
      " 'name': 'wsgi-stop',\n",
      " 'parent_id': '8936de06-bbf3-47a5-b86c-a3b960667538',\n",
      " 'project': 'glance',\n",
      " 'service': 'api',\n",
      " 'timestamp': '2019-12-04T08:18:45.455879',\n",
      " 'trace_id': '82fe4df5-6738-4f0b-9dfb-d145c61348da'}\n",
      "{'base_id': '8936de06-bbf3-47a5-b86c-a3b960667538',\n",
      " 'info': {'host': 'osboxes'},\n",
      " 'name': 'wsgi-stop',\n",
      " 'parent_id': '82fe4df5-6738-4f0b-9dfb-d145c61348da',\n",
      " 'project': 'keystone',\n",
      " 'service': 'public',\n",
      " 'timestamp': '2019-12-04T08:18:45.442215',\n",
      " 'trace_id': '32305f75-649f-4d6d-b339-9266c4cfc3ea'}\n",
      "{'base_id': '8936de06-bbf3-47a5-b86c-a3b960667538',\n",
      " 'info': {'host': 'osboxes',\n",
      "          'request': {'method': 'GET',\n",
      "                      'path': '/identity/v3/auth/tokens',\n",
      "                      'query': '',\n",
      "                      'scheme': 'http'}},\n",
      " 'name': 'wsgi-start',\n",
      " 'parent_id': '82fe4df5-6738-4f0b-9dfb-d145c61348da',\n",
      " 'project': 'keystone',\n",
      " 'service': 'public',\n",
      " 'timestamp': '2019-12-04T08:18:45.413434',\n",
      " 'trace_id': '32305f75-649f-4d6d-b339-9266c4cfc3ea'}\n",
      "{'base_id': '8936de06-bbf3-47a5-b86c-a3b960667538',\n",
      " 'info': {'host': 'osboxes',\n",
      "          'request': {'method': 'GET',\n",
      "                      'path': '/v2/images',\n",
      "                      'query': '',\n",
      "                      'scheme': 'http'}},\n",
      " 'name': 'wsgi-start',\n",
      " 'parent_id': '8936de06-bbf3-47a5-b86c-a3b960667538',\n",
      " 'project': 'glance',\n",
      " 'service': 'api',\n",
      " 'timestamp': '2019-12-04T08:18:45.409902',\n",
      " 'trace_id': '82fe4df5-6738-4f0b-9dfb-d145c61348da'}\n",
      "{'base_id': '8936de06-bbf3-47a5-b86c-a3b960667538',\n",
      " 'info': {'host': 'osboxes'},\n",
      " 'name': 'wsgi-stop',\n",
      " 'parent_id': '8936de06-bbf3-47a5-b86c-a3b960667538',\n",
      " 'project': 'keystone',\n",
      " 'service': 'public',\n",
      " 'timestamp': '2019-12-04T08:18:45.404459',\n",
      " 'trace_id': 'bdf7ec45-ef86-402e-87db-6787b827eb75'}\n",
      "{'base_id': '8936de06-bbf3-47a5-b86c-a3b960667538',\n",
      " 'info': {'host': 'osboxes',\n",
      "          'request': {'method': 'POST',\n",
      "                      'path': '/identity/v3/auth/tokens',\n",
      "                      'query': '',\n",
      "                      'scheme': 'http'}},\n",
      " 'name': 'wsgi-start',\n",
      " 'parent_id': '8936de06-bbf3-47a5-b86c-a3b960667538',\n",
      " 'project': 'keystone',\n",
      " 'service': 'public',\n",
      " 'timestamp': '2019-12-04T08:18:45.385911',\n",
      " 'trace_id': 'bdf7ec45-ef86-402e-87db-6787b827eb75'}\n",
      "{'base_id': '8936de06-bbf3-47a5-b86c-a3b960667538',\n",
      " 'info': {'host': 'osboxes'},\n",
      " 'name': 'wsgi-stop',\n",
      " 'parent_id': '8936de06-bbf3-47a5-b86c-a3b960667538',\n",
      " 'project': 'keystone',\n",
      " 'service': 'public',\n",
      " 'timestamp': '2019-12-04T08:18:45.317648',\n",
      " 'trace_id': '2f7b11bb-135b-45cc-a653-4c707a538c95'}\n",
      "{'base_id': '8936de06-bbf3-47a5-b86c-a3b960667538',\n",
      " 'info': {'host': 'osboxes',\n",
      "          'request': {'method': 'POST',\n",
      "                      'path': '/identity/v3/auth/tokens',\n",
      "                      'query': '',\n",
      "                      'scheme': 'http'}},\n",
      " 'name': 'wsgi-start',\n",
      " 'parent_id': '8936de06-bbf3-47a5-b86c-a3b960667538',\n",
      " 'project': 'keystone',\n",
      " 'service': 'public',\n",
      " 'timestamp': '2019-12-04T08:18:45.298353',\n",
      " 'trace_id': '2f7b11bb-135b-45cc-a653-4c707a538c95'}\n",
      "{'base_id': '8936de06-bbf3-47a5-b86c-a3b960667538',\n",
      " 'info': {'host': 'osboxes'},\n",
      " 'name': 'wsgi-stop',\n",
      " 'parent_id': '8936de06-bbf3-47a5-b86c-a3b960667538',\n",
      " 'project': 'keystone',\n",
      " 'service': 'public',\n",
      " 'timestamp': '2019-12-04T08:18:45.295262',\n",
      " 'trace_id': '912e9bca-e94d-4492-8ba9-1f7fb825cd51'}\n",
      "{'base_id': '8936de06-bbf3-47a5-b86c-a3b960667538',\n",
      " 'info': {'host': 'osboxes',\n",
      "          'request': {'method': 'GET',\n",
      "                      'path': '/identity/',\n",
      "                      'query': '',\n",
      "                      'scheme': 'http'}},\n",
      " 'name': 'wsgi-start',\n",
      " 'parent_id': '8936de06-bbf3-47a5-b86c-a3b960667538',\n",
      " 'project': 'keystone',\n",
      " 'service': 'public',\n",
      " 'timestamp': '2019-12-04T08:18:45.292920',\n",
      " 'trace_id': '912e9bca-e94d-4492-8ba9-1f7fb825cd51'}\n"
     ]
    }
   ],
   "source": [
    "# Show the span content\n",
    "for span in span_lst_short:\n",
    "    pprint.pprint(span)"
   ]
  },
  {
   "cell_type": "code",
   "execution_count": 7,
   "metadata": {},
   "outputs": [
    {
     "name": "stdout",
     "output_type": "stream",
     "text": [
      "projects: {'keystone', 'glance'}\n",
      "names: {'wsgi-start', 'wsgi-stop'}\n",
      "services: {'public', 'api'}\n"
     ]
    }
   ],
   "source": [
    "# Stats about base traces\n",
    "for os_obj in ['project', 'name', 'service']:\n",
    "    print(os_obj+'s:', set([span[os_obj] for span in span_lst_short]))"
   ]
  },
  {
   "cell_type": "code",
   "execution_count": 9,
   "metadata": {},
   "outputs": [
    {
     "name": "stdout",
     "output_type": "stream",
     "text": [
      "Number of traces 6\n"
     ]
    }
   ],
   "source": [
    "import dateutil.parser\n",
    "\n",
    "# Create a dictionary to group spans with the same trace id\n",
    "span_dct = {}\n",
    "for span in span_lst_short:\n",
    "    datetime_object = dateutil.parser.parse(span['timestamp']) \n",
    "    span_dct.setdefault(span['trace_id'], []).append(datetime_object)\n",
    "print('Number of traces', len(span_dct))"
   ]
  },
  {
   "cell_type": "code",
   "execution_count": 12,
   "metadata": {},
   "outputs": [
    {
     "name": "stdout",
     "output_type": "stream",
     "text": [
      "Duration: 0:00:00.017841 , trace id: 1cef1dbe-5b10-453c-b9a8-786e53ad141f\n",
      "Duration: 0:00:00.045977 , trace id: 82fe4df5-6738-4f0b-9dfb-d145c61348da\n",
      "Duration: 0:00:00.028781 , trace id: 32305f75-649f-4d6d-b339-9266c4cfc3ea\n",
      "Duration: 0:00:00.018548 , trace id: bdf7ec45-ef86-402e-87db-6787b827eb75\n",
      "Duration: 0:00:00.019295 , trace id: 2f7b11bb-135b-45cc-a653-4c707a538c95\n",
      "Duration: 0:00:00.002342 , trace id: 912e9bca-e94d-4492-8ba9-1f7fb825cd51\n"
     ]
    }
   ],
   "source": [
    "# calculate the duration of traces\n",
    "span_duration = {}\n",
    "for key in span_dct:\n",
    "    span_dct[key] = sorted(span_dct[key], key=lambda x: x.now().timestamp(), reverse=True)\n",
    "    duration = span_dct[key][-1] - span_dct[key][0]\n",
    "    print('Duration:', duration, ',', 'trace id:', key)\n",
    "    span_duration[key] = duration"
   ]
  },
  {
   "cell_type": "code",
   "execution_count": 8,
   "metadata": {},
   "outputs": [
    {
     "name": "stdout",
     "output_type": "stream",
     "text": [
      "trace: b3ade71c-c13d-4c75-884c-46cf58799b9f\n"
     ]
    }
   ],
   "source": [
    "# The trace with the longest duration\n",
    "max_span = max(span_duration, key=span_duration.get)\n",
    "print('trace:', max_span)"
   ]
  },
  {
   "cell_type": "code",
   "execution_count": 9,
   "metadata": {},
   "outputs": [
    {
     "name": "stdout",
     "output_type": "stream",
     "text": [
      "{'base_id': '21f5d06c-0d01-48f8-a1ae-1d4a0fba1190',\n",
      " 'info': {'host': 'osboxes'},\n",
      " 'name': 'wsgi-stop',\n",
      " 'parent_id': '21f5d06c-0d01-48f8-a1ae-1d4a0fba1190',\n",
      " 'project': 'keystone',\n",
      " 'service': 'public',\n",
      " 'timestamp': '2019-12-04T08:16:40.860976',\n",
      " 'trace_id': 'b3ade71c-c13d-4c75-884c-46cf58799b9f'}\n",
      "{'base_id': '21f5d06c-0d01-48f8-a1ae-1d4a0fba1190',\n",
      " 'info': {'host': 'osboxes',\n",
      "          'request': {'method': 'GET',\n",
      "                      'path': '/identity/',\n",
      "                      'query': '',\n",
      "                      'scheme': 'http'}},\n",
      " 'name': 'wsgi-start',\n",
      " 'parent_id': '21f5d06c-0d01-48f8-a1ae-1d4a0fba1190',\n",
      " 'project': 'keystone',\n",
      " 'service': 'public',\n",
      " 'timestamp': '2019-12-04T08:16:40.858534',\n",
      " 'trace_id': 'b3ade71c-c13d-4c75-884c-46cf58799b9f'}\n"
     ]
    }
   ],
   "source": [
    "for span in span_lst_short:\n",
    "    if span['trace_id'] == max_span:\n",
    "        pprint.pprint(span)"
   ]
  },
  {
   "cell_type": "markdown",
   "metadata": {},
   "source": [
    "# Multi Trace Analysis\n",
    "+ Remove the spans which describe a database access\n",
    "+ Retrieve the first trace and identify the span that had the longest duration"
   ]
  },
  {
   "cell_type": "code",
   "execution_count": 15,
   "metadata": {
    "scrolled": true
   },
   "outputs": [
    {
     "name": "stdout",
     "output_type": "stream",
     "text": [
      "Retrieving base trace id b'osprofiler_opt:8936de06-bbf3-47a5-b86c-a3b960667538'\n",
      "Retrieving base trace id b'osprofiler_opt:8d53535a-ddb4-4c8f-bbcb-1cde0a8a5b42'\n",
      "Retrieving base trace id b'osprofiler_opt:97a91378-08e5-4a24-adeb-6e007d9494b8'\n",
      "Retrieving base trace id b'osprofiler_opt:587aeb38-bb14-4dcd-b700-9167cec66ab8'\n",
      "Retrieving base trace id b'osprofiler_opt:8b50d7aa-5597-4478-9331-b5df1ae3e65f'\n",
      "Retrieving base trace id b'osprofiler_opt:4ed27c73-ecec-411d-b931-e00f8c2a2af3'\n",
      "Retrieving base trace id b'osprofiler_opt:9478baae-2a54-4a54-b037-f6c5af499f91'\n",
      "Retrieving base trace id b'osprofiler_opt:05084b40-2560-4108-aa89-6bc6514709f3'\n",
      "Retrieving base trace id b'osprofiler_opt:9ea489f4-b591-4b44-a60d-c653e523527a'\n",
      "Retrieving base trace id b'osprofiler_opt:6a67db1d-d997-423e-816e-ad148f6552bc'\n",
      "Retrieving base trace id b'osprofiler_opt:898f3f7d-7470-417a-a481-6749c9c8b5f3'\n",
      "Retrieving base trace id b'osprofiler_opt:4d7e2dda-266c-419d-90b1-8e413e9b88a4'\n",
      "Retrieving base trace id b'osprofiler_opt:fd963416-46f4-4564-966b-09e02d741531'\n",
      "Retrieving base trace id b'osprofiler_opt:68a86079-7add-49d1-9bf4-892d5c3bb883'\n",
      "Retrieving base trace id b'osprofiler_opt:71aa5063-10db-4836-9c93-ed24f04ef705'\n",
      "Retrieving base trace id b'osprofiler_opt:bebfab87-7a3a-4ea8-a5b7-2761993266fb'\n",
      "Retrieving base trace id b'osprofiler_opt:df4a4e20-123c-4a22-ac92-0cf98a092de0'\n",
      "Retrieving base trace id b'osprofiler_opt:dd4048ce-374b-4ca3-a602-3fc6f4f87078'\n",
      "Retrieving base trace id b'osprofiler_opt:c9c985a0-a75d-4f26-a0f7-e53edae3826f'\n",
      "Retrieving base trace id b'osprofiler_opt:16fe5d53-4b36-4120-93e1-bf13898fb251'\n",
      "Retrieving base trace id b'osprofiler_opt:321de31a-f834-488c-bb46-6414dc99ce4e'\n",
      "Retrieving base trace id b'osprofiler_opt:73266f44-a874-4a7e-9364-852f3ad753d1'\n",
      "Retrieving base trace id b'osprofiler_opt:0c428b61-da69-413c-aacb-b47547753705'\n",
      "Retrieving base trace id b'osprofiler_opt:6db9d5f6-96a3-473f-a4eb-f6416ad2df4b'\n",
      "Retrieving base trace id b'osprofiler_opt:ae213761-7568-49c6-a874-ff26f238cd33'\n",
      "Retrieving base trace id b'osprofiler_opt:1510cc56-f1f2-4a58-b540-084add06e14a'\n",
      "Retrieving base trace id b'osprofiler_opt:0a50bb7d-e42e-419a-bf82-8312ebce94f5'\n",
      "Retrieving base trace id b'osprofiler_opt:5342a28b-4fd5-4a57-82ec-0ed383eceee7'\n",
      "Retrieving base trace id b'osprofiler_opt:825763d5-debe-407c-a7aa-c37d818dd5a7'\n",
      "Retrieving base trace id b'osprofiler_opt:3e767a4f-427f-4483-84ff-8ae5d3963e66'\n",
      "Retrieving base trace id b'osprofiler_opt:635a3c63-170e-48b0-af87-f6a30bb17208'\n",
      "Retrieving base trace id b'osprofiler_opt:88aab874-3f96-4bbb-b6aa-42e76981646a'\n",
      "Retrieving base trace id b'osprofiler_opt:c1c0862e-a6b2-45c7-9560-ebb61c6603ba'\n",
      "Retrieving base trace id b'osprofiler_opt:51bdf1a8-c07b-4f41-9980-3ce0bda95049'\n",
      "Retrieving base trace id b'osprofiler_opt:ca261efa-5d97-43ba-8b06-53d4d5ff30a0'\n",
      "Retrieving base trace id b'osprofiler_opt:0fe347c0-a58b-45e1-8937-d15f298fdba6'\n",
      "Retrieving base trace id b'osprofiler_opt:03212b4f-8943-4b23-aa2a-6601bc6e0ae0'\n",
      "Retrieving base trace id b'osprofiler_opt:c6714c1e-7ee1-40f1-b879-49ceadf99eba'\n",
      "Retrieving base trace id b'osprofiler_opt:ddecc2c5-f715-44f3-a8cf-f2323203f392'\n",
      "Retrieving base trace id b'osprofiler_opt:e940a673-9698-4ead-bf6d-397fd5c4188f'\n",
      "Retrieving base trace id b'osprofiler_opt:7ea509a1-d53f-48d6-a3a6-9d4a43053438'\n",
      "Retrieving base trace id b'osprofiler_opt:3b9497a7-fcb5-44b0-969b-e7188b5b954e'\n",
      "Retrieving base trace id b'osprofiler_opt:8804cc8b-2b73-47bf-b5d6-159f96f393a1'\n",
      "Retrieving base trace id b'osprofiler_opt:ba770af8-ffc1-408a-aaa4-9d814682f6c9'\n",
      "Retrieving base trace id b'osprofiler_opt:8e017f4b-7301-4459-90a3-3d01596773cd'\n",
      "Retrieving base trace id b'osprofiler_opt:07dcc10d-6396-49cf-b18d-61fca40d4cfa'\n",
      "Retrieving base trace id b'osprofiler_opt:4fc54491-3bd5-4844-8cef-d87ef2ce5e5a'\n",
      "Retrieving base trace id b'osprofiler_opt:a852f2b0-e8f8-4a15-90ab-59874e690f1b'\n",
      "Retrieving base trace id b'osprofiler_opt:5dae25ae-f74d-4ec0-b854-146281d522f2'\n",
      "Retrieving base trace id b'osprofiler_opt:60d76a31-0e54-4d4c-a69c-c3f3cde1116d'\n",
      "Retrieving base trace id b'osprofiler_opt:fc56a1e9-c28c-4a58-8692-fa80f0f7f463'\n",
      "Retrieving base trace id b'osprofiler_opt:e045721d-d54d-42dc-a7cc-1d3b5f697228'\n",
      "Retrieving base trace id b'osprofiler_opt:a485f034-dafd-440d-add5-7b6a481afce9'\n",
      "Retrieving base trace id b'osprofiler_opt:370e79f1-9b0f-442a-978b-481bdd002da2'\n",
      "Retrieving base trace id b'osprofiler_opt:9ccc6e37-2ffa-445b-bf0e-733e9b9db400'\n",
      "Retrieving base trace id b'osprofiler_opt:2e8715cf-8d80-46e0-aa48-7403a6606eb2'\n",
      "Retrieving base trace id b'osprofiler_opt:c13ed39b-2b75-42ea-98e0-cd96f86c0d0f'\n",
      "Retrieving base trace id b'osprofiler_opt:0f1a4778-047c-4d16-96c3-e5ac4c74d522'\n",
      "Retrieving base trace id b'osprofiler_opt:24e517d7-aeda-4ce3-b3bd-dd09877e2a10'\n",
      "Retrieving base trace id b'osprofiler_opt:3a617580-3345-4720-9de6-c16623bb5b8e'\n",
      "Retrieving base trace id b'osprofiler_opt:fe53d77f-8e15-4013-b1b8-0cdcd4fc04c6'\n",
      "Retrieving base trace id b'osprofiler_opt:99691deb-1795-4922-b2da-5b3b4b448cd9'\n",
      "Retrieving base trace id b'osprofiler_opt:2e746f65-0e42-4d9f-8642-1f777bb49282'\n",
      "Retrieving base trace id b'osprofiler_opt:be80667c-fc81-44c7-b87e-5fbf49ca7a9b'\n",
      "Retrieving base trace id b'osprofiler_opt:d07dd6ac-c87b-431b-bda8-6dc2d6ebe40d'\n",
      "Retrieving base trace id b'osprofiler_opt:4bc9d9fa-347c-4293-b196-0c0f40f665d8'\n",
      "Retrieving base trace id b'osprofiler_opt:4326a7f2-2532-4ebd-aa61-1963a936f1f6'\n",
      "Retrieving base trace id b'osprofiler_opt:38717f5f-7738-4ab5-9389-a80af9454711'\n",
      "Retrieving base trace id b'osprofiler_opt:19ce8397-2a7e-475e-b85f-0dc5d1ce31e6'\n",
      "Retrieving base trace id b'osprofiler_opt:82d403dd-7a39-45e7-992d-5967bd86c08b'\n",
      "Retrieving base trace id b'osprofiler_opt:76dea516-bf1c-41b3-aa3f-f3ef79d9e44a'\n",
      "Retrieving base trace id b'osprofiler_opt:5c6318fe-db77-4e71-8e36-0d40e8eb6339'\n",
      "Retrieving base trace id b'osprofiler_opt:a03a0712-7502-4720-8366-1068f52e92eb'\n",
      "Retrieving base trace id b'osprofiler_opt:78f40e9e-70a0-4ca3-9b20-feba659ff2f7'\n",
      "Retrieving base trace id b'osprofiler_opt:6d86928d-6fef-4e53-b135-2ebca3fc931d'\n",
      "Retrieving base trace id b'osprofiler_opt:5fe220ef-4291-40b3-9ab8-20a900123aa7'\n",
      "Retrieving base trace id b'osprofiler_opt:91605aa6-521d-4ec2-a649-ed76dea0aafc'\n",
      "Retrieving base trace id b'osprofiler_opt:1233b53d-1a69-4c7c-82dd-3ec9593795a8'\n",
      "Retrieving base trace id b'osprofiler_opt:5fa7eae4-d636-4312-9d27-78d782f0c131'\n",
      "Retrieving base trace id b'osprofiler_opt:bb64f92f-9f23-4a9d-9b82-6a576edffc77'\n",
      "Retrieving base trace id b'osprofiler_opt:5549c17a-54cf-4697-a9d8-d74a87f235f2'\n",
      "Retrieving base trace id b'osprofiler_opt:562ddf27-efa5-4ead-a540-27b616a01db5'\n",
      "Retrieving base trace id b'osprofiler_opt:5dba47c8-d040-4298-a370-df62d52c525a'\n",
      "Retrieving base trace id b'osprofiler_opt:136152ae-a62d-419d-82fe-3eb8daae1d54'\n",
      "Retrieving base trace id b'osprofiler_opt:f8e855c5-954b-4a4b-ab16-ffefbfd836a8'\n",
      "Retrieving base trace id b'osprofiler_opt:da58e953-869c-4be2-9749-a1968dc93fb5'\n",
      "Retrieving base trace id b'osprofiler_opt:1ec9319b-a255-4438-a3ea-b0168e8cb34d'\n",
      "Retrieving base trace id b'osprofiler_opt:41234f22-11e1-4374-88a9-820645e54732'\n",
      "Retrieving base trace id b'osprofiler_opt:4d8ae620-00c8-447e-a4ae-b8656d0ff6b2'\n",
      "Retrieving base trace id b'osprofiler_opt:2beb669a-0e87-4ebe-910a-5dff537eea9f'\n",
      "Retrieving base trace id b'osprofiler_opt:c5945ba2-6ed6-4d47-b969-f0f015f320b7'\n",
      "Retrieving base trace id b'osprofiler_opt:471dd327-bf0e-4a6f-a0ef-41db8785ad32'\n",
      "Retrieving base trace id b'osprofiler_opt:6ac4910c-8d75-497b-8825-957b5919fedb'\n",
      "Retrieving base trace id b'osprofiler_opt:404148d2-45ed-48af-b306-de46204178ef'\n",
      "Retrieving base trace id b'osprofiler_opt:d1dde270-101d-4788-8172-2ae1656badc0'\n",
      "Retrieving base trace id b'osprofiler_opt:62369667-fc9e-48ac-a560-bfef2777de2d'\n",
      "Retrieving base trace id b'osprofiler_opt:b2ef41e8-4486-4916-b044-12640c50eb9b'\n",
      "Retrieving base trace id b'osprofiler_opt:23f3566b-e884-4ed7-8438-391205c01c20'\n",
      "Retrieving base trace id b'osprofiler_opt:5ff9f1b4-38b2-4022-9f70-db39b05db8fc'\n",
      "Retrieving base trace id b'osprofiler_opt:a4d5440c-5373-4002-af9b-5a9427de767c'\n"
     ]
    }
   ],
   "source": [
    "base_id_dct = {}\n",
    "for base_trace_id in base_trace_ids:\n",
    "    print('Retrieving base trace id', base_trace_id)\n",
    "    span_lst = r.lrange(base_trace_id, 0, -1)\n",
    "    for span in span_lst:\n",
    "        span = json.loads(span)\n",
    "        datetime_object = dateutil.parser.parse(span['timestamp']) \n",
    "        base_id_dct.setdefault(span['base_id'], []).append(datetime_object)"
   ]
  },
  {
   "cell_type": "code",
   "execution_count": 16,
   "metadata": {
    "scrolled": true
   },
   "outputs": [
    {
     "name": "stdout",
     "output_type": "stream",
     "text": [
      "Duration: 0:00:00.185118 , base trace id: 8936de06-bbf3-47a5-b86c-a3b960667538\n",
      "Duration: 0:00:00.207269 , base trace id: 8d53535a-ddb4-4c8f-bbcb-1cde0a8a5b42\n",
      "Duration: 0:00:00.184706 , base trace id: 97a91378-08e5-4a24-adeb-6e007d9494b8\n",
      "Duration: 0:00:00.244420 , base trace id: 587aeb38-bb14-4dcd-b700-9167cec66ab8\n",
      "Duration: 0:00:00.226668 , base trace id: 8b50d7aa-5597-4478-9331-b5df1ae3e65f\n",
      "Duration: 0:00:00.192099 , base trace id: 4ed27c73-ecec-411d-b931-e00f8c2a2af3\n",
      "Duration: 0:00:00.256199 , base trace id: 9478baae-2a54-4a54-b037-f6c5af499f91\n",
      "Duration: 0:00:00.233075 , base trace id: 05084b40-2560-4108-aa89-6bc6514709f3\n",
      "Duration: 0:00:00.186619 , base trace id: 9ea489f4-b591-4b44-a60d-c653e523527a\n",
      "Duration: 0:00:00.195919 , base trace id: 6a67db1d-d997-423e-816e-ad148f6552bc\n",
      "Duration: 0:00:00.187590 , base trace id: 898f3f7d-7470-417a-a481-6749c9c8b5f3\n",
      "Duration: 0:00:00.285886 , base trace id: 4d7e2dda-266c-419d-90b1-8e413e9b88a4\n",
      "Duration: 0:00:00.179857 , base trace id: fd963416-46f4-4564-966b-09e02d741531\n",
      "Duration: 0:00:00.189231 , base trace id: 68a86079-7add-49d1-9bf4-892d5c3bb883\n",
      "Duration: 0:00:00.212605 , base trace id: 71aa5063-10db-4836-9c93-ed24f04ef705\n",
      "Duration: 0:00:00.422509 , base trace id: bebfab87-7a3a-4ea8-a5b7-2761993266fb\n",
      "Duration: 0:00:00.187610 , base trace id: df4a4e20-123c-4a22-ac92-0cf98a092de0\n",
      "Duration: 0:00:00.503102 , base trace id: dd4048ce-374b-4ca3-a602-3fc6f4f87078\n",
      "Duration: 0:00:00.449364 , base trace id: c9c985a0-a75d-4f26-a0f7-e53edae3826f\n",
      "Duration: 0:00:00.221156 , base trace id: 16fe5d53-4b36-4120-93e1-bf13898fb251\n",
      "Duration: 0:00:00.262484 , base trace id: 321de31a-f834-488c-bb46-6414dc99ce4e\n",
      "Duration: 0:00:00.201043 , base trace id: 73266f44-a874-4a7e-9364-852f3ad753d1\n",
      "Duration: 0:00:00.286339 , base trace id: 0c428b61-da69-413c-aacb-b47547753705\n",
      "Duration: 0:00:00.228032 , base trace id: 6db9d5f6-96a3-473f-a4eb-f6416ad2df4b\n",
      "Duration: 0:00:00.244427 , base trace id: ae213761-7568-49c6-a874-ff26f238cd33\n",
      "Duration: 0:00:00.470905 , base trace id: 1510cc56-f1f2-4a58-b540-084add06e14a\n",
      "Duration: 0:00:00.189587 , base trace id: 0a50bb7d-e42e-419a-bf82-8312ebce94f5\n",
      "Duration: 0:00:00.203839 , base trace id: 5342a28b-4fd5-4a57-82ec-0ed383eceee7\n",
      "Duration: 0:00:00.237254 , base trace id: 825763d5-debe-407c-a7aa-c37d818dd5a7\n",
      "Duration: 0:00:00.316640 , base trace id: 3e767a4f-427f-4483-84ff-8ae5d3963e66\n",
      "Duration: 0:00:00.261756 , base trace id: 635a3c63-170e-48b0-af87-f6a30bb17208\n",
      "Duration: 0:00:00.221819 , base trace id: 88aab874-3f96-4bbb-b6aa-42e76981646a\n",
      "Duration: 0:00:00.269278 , base trace id: c1c0862e-a6b2-45c7-9560-ebb61c6603ba\n",
      "Duration: 0:00:00.184605 , base trace id: 51bdf1a8-c07b-4f41-9980-3ce0bda95049\n",
      "Duration: 0:00:00.190040 , base trace id: ca261efa-5d97-43ba-8b06-53d4d5ff30a0\n",
      "Duration: 0:00:00.189815 , base trace id: 0fe347c0-a58b-45e1-8937-d15f298fdba6\n",
      "Duration: 0:00:00.187156 , base trace id: 03212b4f-8943-4b23-aa2a-6601bc6e0ae0\n",
      "Duration: 0:00:00.188975 , base trace id: c6714c1e-7ee1-40f1-b879-49ceadf99eba\n",
      "Duration: 0:00:00.447677 , base trace id: ddecc2c5-f715-44f3-a8cf-f2323203f392\n",
      "Duration: 0:00:00.203483 , base trace id: e940a673-9698-4ead-bf6d-397fd5c4188f\n",
      "Duration: 0:00:00.251547 , base trace id: 7ea509a1-d53f-48d6-a3a6-9d4a43053438\n",
      "Duration: 0:00:00.187074 , base trace id: 3b9497a7-fcb5-44b0-969b-e7188b5b954e\n",
      "Duration: 0:00:00.254955 , base trace id: 8804cc8b-2b73-47bf-b5d6-159f96f393a1\n",
      "Duration: 0:00:00.192152 , base trace id: ba770af8-ffc1-408a-aaa4-9d814682f6c9\n",
      "Duration: 0:00:00.186294 , base trace id: 8e017f4b-7301-4459-90a3-3d01596773cd\n",
      "Duration: 0:00:00.198477 , base trace id: 07dcc10d-6396-49cf-b18d-61fca40d4cfa\n",
      "Duration: 0:00:00.200937 , base trace id: 4fc54491-3bd5-4844-8cef-d87ef2ce5e5a\n",
      "Duration: 0:00:00.245892 , base trace id: a852f2b0-e8f8-4a15-90ab-59874e690f1b\n",
      "Duration: 0:00:00.209595 , base trace id: 5dae25ae-f74d-4ec0-b854-146281d522f2\n",
      "Duration: 0:00:00.291354 , base trace id: 60d76a31-0e54-4d4c-a69c-c3f3cde1116d\n",
      "Duration: 0:00:00.205226 , base trace id: fc56a1e9-c28c-4a58-8692-fa80f0f7f463\n",
      "Duration: 0:00:00.249247 , base trace id: e045721d-d54d-42dc-a7cc-1d3b5f697228\n",
      "Duration: 0:00:00.186138 , base trace id: a485f034-dafd-440d-add5-7b6a481afce9\n",
      "Duration: 0:00:00.285135 , base trace id: 370e79f1-9b0f-442a-978b-481bdd002da2\n",
      "Duration: 0:00:00.745099 , base trace id: 9ccc6e37-2ffa-445b-bf0e-733e9b9db400\n",
      "Duration: 0:00:00.219033 , base trace id: 2e8715cf-8d80-46e0-aa48-7403a6606eb2\n",
      "Duration: 0:00:00.228378 , base trace id: c13ed39b-2b75-42ea-98e0-cd96f86c0d0f\n",
      "Duration: 0:00:00.203058 , base trace id: 0f1a4778-047c-4d16-96c3-e5ac4c74d522\n",
      "Duration: 0:00:00.218379 , base trace id: 24e517d7-aeda-4ce3-b3bd-dd09877e2a10\n",
      "Duration: 0:00:00.233984 , base trace id: 3a617580-3345-4720-9de6-c16623bb5b8e\n",
      "Duration: 0:00:00.286379 , base trace id: fe53d77f-8e15-4013-b1b8-0cdcd4fc04c6\n",
      "Duration: 0:00:00.278404 , base trace id: 99691deb-1795-4922-b2da-5b3b4b448cd9\n",
      "Duration: 0:00:00.197961 , base trace id: 2e746f65-0e42-4d9f-8642-1f777bb49282\n",
      "Duration: 0:00:00.259920 , base trace id: be80667c-fc81-44c7-b87e-5fbf49ca7a9b\n",
      "Duration: 0:00:00.221976 , base trace id: d07dd6ac-c87b-431b-bda8-6dc2d6ebe40d\n",
      "Duration: 0:00:00.190167 , base trace id: 4bc9d9fa-347c-4293-b196-0c0f40f665d8\n",
      "Duration: 0:00:00.217779 , base trace id: 4326a7f2-2532-4ebd-aa61-1963a936f1f6\n",
      "Duration: 0:00:00.184196 , base trace id: 38717f5f-7738-4ab5-9389-a80af9454711\n",
      "Duration: 0:00:00.319426 , base trace id: 19ce8397-2a7e-475e-b85f-0dc5d1ce31e6\n",
      "Duration: 0:00:00.186062 , base trace id: 82d403dd-7a39-45e7-992d-5967bd86c08b\n",
      "Duration: 0:00:00.191229 , base trace id: 76dea516-bf1c-41b3-aa3f-f3ef79d9e44a\n",
      "Duration: 0:00:00.218907 , base trace id: 5c6318fe-db77-4e71-8e36-0d40e8eb6339\n",
      "Duration: 0:00:00.252968 , base trace id: a03a0712-7502-4720-8366-1068f52e92eb\n",
      "Duration: 0:00:00.205248 , base trace id: 78f40e9e-70a0-4ca3-9b20-feba659ff2f7\n",
      "Duration: 0:00:00.279894 , base trace id: 6d86928d-6fef-4e53-b135-2ebca3fc931d\n",
      "Duration: 0:00:00.205268 , base trace id: 5fe220ef-4291-40b3-9ab8-20a900123aa7\n",
      "Duration: 0:00:00.195001 , base trace id: 91605aa6-521d-4ec2-a649-ed76dea0aafc\n",
      "Duration: 0:00:00.449812 , base trace id: 1233b53d-1a69-4c7c-82dd-3ec9593795a8\n",
      "Duration: 0:00:00.206518 , base trace id: 5fa7eae4-d636-4312-9d27-78d782f0c131\n",
      "Duration: 0:00:00.190522 , base trace id: bb64f92f-9f23-4a9d-9b82-6a576edffc77\n",
      "Duration: 0:00:00.211392 , base trace id: 5549c17a-54cf-4697-a9d8-d74a87f235f2\n",
      "Duration: 0:00:00.183051 , base trace id: 562ddf27-efa5-4ead-a540-27b616a01db5\n",
      "Duration: 0:00:00.181818 , base trace id: 5dba47c8-d040-4298-a370-df62d52c525a\n",
      "Duration: 0:00:03.455238 , base trace id: 136152ae-a62d-419d-82fe-3eb8daae1d54\n",
      "Duration: 0:00:00.212451 , base trace id: f8e855c5-954b-4a4b-ab16-ffefbfd836a8\n",
      "Duration: 0:00:00.202444 , base trace id: da58e953-869c-4be2-9749-a1968dc93fb5\n",
      "Duration: 0:00:00.223850 , base trace id: 1ec9319b-a255-4438-a3ea-b0168e8cb34d\n",
      "Duration: 0:00:00.223491 , base trace id: 41234f22-11e1-4374-88a9-820645e54732\n",
      "Duration: 0:00:00.235405 , base trace id: 4d8ae620-00c8-447e-a4ae-b8656d0ff6b2\n",
      "Duration: 0:00:00.211818 , base trace id: 2beb669a-0e87-4ebe-910a-5dff537eea9f\n",
      "Duration: 0:00:00.318633 , base trace id: c5945ba2-6ed6-4d47-b969-f0f015f320b7\n",
      "Duration: 0:00:00.222302 , base trace id: 471dd327-bf0e-4a6f-a0ef-41db8785ad32\n",
      "Duration: 0:00:00.184868 , base trace id: 6ac4910c-8d75-497b-8825-957b5919fedb\n",
      "Duration: 0:00:00.202510 , base trace id: 404148d2-45ed-48af-b306-de46204178ef\n",
      "Duration: 0:00:00.192037 , base trace id: d1dde270-101d-4788-8172-2ae1656badc0\n",
      "Duration: 0:00:00.189333 , base trace id: 62369667-fc9e-48ac-a560-bfef2777de2d\n",
      "Duration: 0:00:00.186479 , base trace id: b2ef41e8-4486-4916-b044-12640c50eb9b\n",
      "Duration: 0:00:00.186220 , base trace id: 23f3566b-e884-4ed7-8438-391205c01c20\n",
      "Duration: 0:00:00.225280 , base trace id: 5ff9f1b4-38b2-4022-9f70-db39b05db8fc\n",
      "Duration: 0:00:00.254914 , base trace id: a4d5440c-5373-4002-af9b-5a9427de767c\n"
     ]
    }
   ],
   "source": [
    "# calculate the duration of spans / traces\n",
    "duration_dct = {}\n",
    "for base_id in base_id_dct:\n",
    "    base_id_dct[base_id] = sorted(base_id_dct[base_id], key=lambda x: x.now().timestamp(), reverse=True)\n",
    "    duration = base_id_dct[base_id][-1] - base_id_dct[base_id][0]\n",
    "    print('Duration:', duration, ',', 'base trace id:', base_id)\n",
    "    duration_dct[base_id] = duration"
   ]
  },
  {
   "cell_type": "code",
   "execution_count": 65,
   "metadata": {},
   "outputs": [],
   "source": [
    "# Display the duration of the traces\n",
    "df = pd.DataFrame.from_dict(duration_dct, orient='index', columns=['duration'])\n",
    "df['duration'] = df['duration'] / datetime.timedelta(milliseconds=1)\n",
    "df = df.reset_index()"
   ]
  },
  {
   "cell_type": "code",
   "execution_count": 68,
   "metadata": {},
   "outputs": [
    {
     "data": {
      "text/plain": [
       "<matplotlib.axes._subplots.AxesSubplot at 0x7fdde1abfa58>"
      ]
     },
     "execution_count": 68,
     "metadata": {},
     "output_type": "execute_result"
    },
    {
     "data": {
      "image/png": "[encoded data removed]",
      "text/plain": [
       "<Figure size 432x288 with 1 Axes>"
      ]
     },
     "metadata": {
      "needs_background": "light"
     },
     "output_type": "display_data"
    }
   ],
   "source": [
    "# Plot durations\n",
    "df.plot()"
   ]
  },
  {
   "cell_type": "code",
   "execution_count": 69,
   "metadata": {},
   "outputs": [
    {
     "data": {
      "text/plain": [
       "<matplotlib.axes._subplots.AxesSubplot at 0x7fdde1bf4588>"
      ]
     },
     "execution_count": 69,
     "metadata": {},
     "output_type": "execute_result"
    },
    {
     "data": {
      "image/png": "[encoded data removed]",
      "text/plain": [
       "<Figure size 432x288 with 1 Axes>"
      ]
     },
     "metadata": {
      "needs_background": "light"
     },
     "output_type": "display_data"
    }
   ],
   "source": [
    "# Plot PDF od durations\n",
    "sns.distplot(df['duration'])"
   ]
  },
  {
   "cell_type": "markdown",
   "metadata": {},
   "source": [
    "# Anomaly Detection"
   ]
  },
  {
   "cell_type": "markdown",
   "metadata": {},
   "source": [
    "# Z-score\n",
    "The Z-score is the signed number of standard deviations by which the value of an observation or data point is above the mean value of what is being observed or measured [Wikipedia]."
   ]
  },
  {
   "cell_type": "code",
   "execution_count": null,
   "metadata": {},
   "outputs": [],
   "source": [
    "import numpy as np\n",
    "\n",
    "def outliers_z_score(ys):\n",
    "    threshold = 3\n",
    "\n",
    "    mean_y = np.mean(ys)\n",
    "    stdev_y = np.std(ys)\n",
    "    z_scores = [(y - mean_y) / stdev_y for y in ys]\n",
    "    return np.where(np.abs(z_scores) > threshold)"
   ]
  },
  {
   "cell_type": "code",
   "execution_count": 73,
   "metadata": {},
   "outputs": [
    {
     "name": "stdout",
     "output_type": "stream",
     "text": [
      "[2.61864064e-01 1.94863618e-01 2.63110247e-01 8.24924579e-02\n",
      " 1.36187186e-01 2.40748534e-01 4.68643484e-02 1.16807841e-01\n",
      " 2.57323968e-01 2.29194125e-01 2.54386971e-01 4.29303445e-02\n",
      " 2.77777086e-01 2.49423414e-01 1.78723743e-01 4.56175884e-01\n",
      " 2.54326476e-01 6.99946682e-01 5.37404586e-01 1.52859411e-01\n",
      " 2.78540191e-02 2.13695489e-01 4.43005401e-02 1.32061476e-01\n",
      " 8.24712849e-02 6.02559956e-01 2.48346616e-01 2.05238388e-01\n",
      " 1.04167560e-01 1.35952408e-01 3.00560111e-02 1.50854025e-01\n",
      " 7.30411030e-03 2.63415743e-01 2.46976421e-01 2.47656981e-01\n",
      " 2.55699697e-01 2.50197741e-01 5.32301893e-01 2.06315186e-01\n",
      " 6.09353192e-02 2.55947723e-01 5.06270930e-02 2.40588224e-01\n",
      " 2.58307000e-01 2.21456906e-01 2.14016109e-01 7.80400785e-02\n",
      " 1.87828133e-01 5.94694822e-02 2.01043109e-01 6.78921621e-02\n",
      " 2.58778856e-01 4.06587841e-02 1.43191846e+00 1.59280879e-01\n",
      " 1.31014924e-01 2.07600690e-01 1.61259043e-01 1.14058376e-01\n",
      " 4.44215286e-02 2.02994322e-02 2.23017659e-01 3.56093865e-02\n",
      " 1.50379145e-01 2.46592282e-01 1.63073871e-01 2.64652851e-01\n",
      " 1.44379262e-01 2.59008734e-01 2.43380035e-01 1.59661993e-01\n",
      " 5.66372002e-02 2.00976566e-01 2.48062565e-02 2.00916071e-01\n",
      " 2.31970813e-01 5.38759658e-01 1.97135179e-01 2.45518508e-01\n",
      " 1.82392721e-01 2.68116149e-01 2.71845621e-01 9.62931460e+00\n",
      " 1.79189549e-01 2.09457865e-01 1.44710831e-01 1.45796703e-01\n",
      " 1.09760257e-01 1.81104193e-01 1.41980663e-01 1.49393088e-01\n",
      " 2.62620243e-01 2.09258233e-01 2.40936066e-01 2.49114894e-01\n",
      " 2.57747428e-01 2.58530829e-01 1.40385489e-01 5.07511062e-02]\n",
      "(array([83]),)\n"
     ]
    }
   ],
   "source": [
    "from scipy import stats\n",
    "import numpy as np\n",
    "z = np.abs(stats.zscore(df['duration']))\n",
    "print(z)\n",
    "threshold = 3\n",
    "print(np.where(z > 3))"
   ]
  },
  {
   "cell_type": "markdown",
   "metadata": {},
   "source": [
    "# Boxplot\n",
    "In descriptive statistics, a box plot is a method for graphically depicting groups of numerical data through their quartiles. Box plots may also have lines extending vertically from the boxes (whiskers) indicating variability outside the upper and lower quartiles, hence the terms box-and-whisker plot and box-and-whisker diagram. Outliers may be plotted as individual points. [Wikipedia]"
   ]
  },
  {
   "cell_type": "code",
   "execution_count": 71,
   "metadata": {},
   "outputs": [
    {
     "data": {
      "text/plain": [
       "<matplotlib.axes._subplots.AxesSubplot at 0x7fdddf4c4e80>"
      ]
     },
     "execution_count": 71,
     "metadata": {},
     "output_type": "execute_result"
    },
    {
     "data": {
      "image/png": "[encoded data removed]",
      "text/plain": [
       "<Figure size 432x288 with 1 Axes>"
      ]
     },
     "metadata": {
      "needs_background": "light"
     },
     "output_type": "display_data"
    }
   ],
   "source": [
    "import seaborn as sns\n",
    "sns.boxplot(x=df['duration'])"
   ]
  },
  {
   "cell_type": "code",
   "execution_count": null,
   "metadata": {},
   "outputs": [],
   "source": [
    "import numpy as np\n",
    "\n",
    "def outliers_iqr(ys):\n",
    "    quartile_1, quartile_3 = np.percentile(ys, [25, 75])\n",
    "    iqr = quartile_3 - quartile_1\n",
    "    lower_bound = quartile_1 - (iqr * 1.5)\n",
    "    upper_bound = quartile_3 + (iqr * 1.5)\n",
    "    return np.where((ys > upper_bound) | (ys < lower_bound))"
   ]
  },
  {
   "cell_type": "code",
   "execution_count": 74,
   "metadata": {},
   "outputs": [
    {
     "name": "stdout",
     "output_type": "stream",
     "text": [
      "duration    63.02125\n",
      "dtype: float64\n"
     ]
    }
   ],
   "source": [
    "Q1 = df.quantile(0.25)\n",
    "Q3 = df.quantile(0.75)\n",
    "IQR = Q3 - Q1\n",
    "print(IQR)"
   ]
  },
  {
   "cell_type": "code",
   "execution_count": 76,
   "metadata": {},
   "outputs": [
    {
     "name": "stdout",
     "output_type": "stream",
     "text": [
      "    duration  index\n",
      "0      False  False\n",
      "1      False  False\n",
      "2      False  False\n",
      "3      False  False\n",
      "4      False  False\n",
      "..       ...    ...\n",
      "95     False  False\n",
      "96     False  False\n",
      "97     False  False\n",
      "98     False  False\n",
      "99     False  False\n",
      "\n",
      "[100 rows x 2 columns]\n"
     ]
    },
    {
     "ename": "TypeError",
     "evalue": "cannot compare a dtyped [bool] array with a scalar of type [NoneType]",
     "output_type": "error",
     "traceback": [
      "\u001b[0;31m---------------------------------------------------------------------------\u001b[0m",
      "\u001b[0;31mTypeError\u001b[0m                                 Traceback (most recent call last)",
      "\u001b[0;32m~/.local/lib/python3.6/site-packages/pandas/core/ops/__init__.py\u001b[0m in \u001b[0;36mna_op\u001b[0;34m(x, y)\u001b[0m\n\u001b[1;32m   1253\u001b[0m         \u001b[0;32mtry\u001b[0m\u001b[0;34m:\u001b[0m\u001b[0;34m\u001b[0m\u001b[0;34m\u001b[0m\u001b[0m\n\u001b[0;32m-> 1254\u001b[0;31m             \u001b[0mresult\u001b[0m \u001b[0;34m=\u001b[0m \u001b[0mop\u001b[0m\u001b[0;34m(\u001b[0m\u001b[0mx\u001b[0m\u001b[0;34m,\u001b[0m \u001b[0my\u001b[0m\u001b[0;34m)\u001b[0m\u001b[0;34m\u001b[0m\u001b[0;34m\u001b[0m\u001b[0m\n\u001b[0m\u001b[1;32m   1255\u001b[0m         \u001b[0;32mexcept\u001b[0m \u001b[0mTypeError\u001b[0m\u001b[0;34m:\u001b[0m\u001b[0;34m\u001b[0m\u001b[0;34m\u001b[0m\u001b[0m\n",
      "\u001b[0;32m~/.local/lib/python3.6/site-packages/pandas/core/ops/roperator.py\u001b[0m in \u001b[0;36mror_\u001b[0;34m(left, right)\u001b[0m\n\u001b[1;32m     56\u001b[0m \u001b[0;32mdef\u001b[0m \u001b[0mror_\u001b[0m\u001b[0;34m(\u001b[0m\u001b[0mleft\u001b[0m\u001b[0;34m,\u001b[0m \u001b[0mright\u001b[0m\u001b[0;34m)\u001b[0m\u001b[0;34m:\u001b[0m\u001b[0;34m\u001b[0m\u001b[0;34m\u001b[0m\u001b[0m\n\u001b[0;32m---> 57\u001b[0;31m     \u001b[0;32mreturn\u001b[0m \u001b[0moperator\u001b[0m\u001b[0;34m.\u001b[0m\u001b[0mor_\u001b[0m\u001b[0;34m(\u001b[0m\u001b[0mright\u001b[0m\u001b[0;34m,\u001b[0m \u001b[0mleft\u001b[0m\u001b[0;34m)\u001b[0m\u001b[0;34m\u001b[0m\u001b[0;34m\u001b[0m\u001b[0m\n\u001b[0m\u001b[1;32m     58\u001b[0m \u001b[0;34m\u001b[0m\u001b[0m\n",
      "\u001b[0;31mTypeError\u001b[0m: unsupported operand type(s) for |: 'NoneType' and 'bool'",
      "\nDuring handling of the above exception, another exception occurred:\n",
      "\u001b[0;31mValueError\u001b[0m                                Traceback (most recent call last)",
      "\u001b[0;32m~/.local/lib/python3.6/site-packages/pandas/core/ops/__init__.py\u001b[0m in \u001b[0;36mna_op\u001b[0;34m(x, y)\u001b[0m\n\u001b[1;32m   1268\u001b[0m                 \u001b[0;32mtry\u001b[0m\u001b[0;34m:\u001b[0m\u001b[0;34m\u001b[0m\u001b[0;34m\u001b[0m\u001b[0m\n\u001b[0;32m-> 1269\u001b[0;31m                     \u001b[0mresult\u001b[0m \u001b[0;34m=\u001b[0m \u001b[0mlibops\u001b[0m\u001b[0;34m.\u001b[0m\u001b[0mscalar_binop\u001b[0m\u001b[0;34m(\u001b[0m\u001b[0mx\u001b[0m\u001b[0;34m,\u001b[0m \u001b[0my\u001b[0m\u001b[0;34m,\u001b[0m \u001b[0mop\u001b[0m\u001b[0;34m)\u001b[0m\u001b[0;34m\u001b[0m\u001b[0;34m\u001b[0m\u001b[0m\n\u001b[0m\u001b[1;32m   1270\u001b[0m                 except (\n",
      "\u001b[0;32mpandas/_libs/ops.pyx\u001b[0m in \u001b[0;36mpandas._libs.ops.scalar_binop\u001b[0;34m()\u001b[0m\n",
      "\u001b[0;31mValueError\u001b[0m: Does not understand character buffer dtype format string ('?')",
      "\nDuring handling of the above exception, another exception occurred:\n",
      "\u001b[0;31mTypeError\u001b[0m                                 Traceback (most recent call last)",
      "\u001b[0;32m<ipython-input-76-efd57228f486>\u001b[0m in \u001b[0;36m<module>\u001b[0;34m\u001b[0m\n\u001b[0;32m----> 1\u001b[0;31m \u001b[0mprint\u001b[0m\u001b[0;34m(\u001b[0m\u001b[0mdf\u001b[0m \u001b[0;34m<\u001b[0m \u001b[0;34m(\u001b[0m\u001b[0mQ1\u001b[0m \u001b[0;34m-\u001b[0m \u001b[0;36m1.5\u001b[0m \u001b[0;34m*\u001b[0m \u001b[0mIQR\u001b[0m\u001b[0;34m)\u001b[0m\u001b[0;34m)\u001b[0m \u001b[0;34m|\u001b[0m \u001b[0;34m(\u001b[0m\u001b[0mdf\u001b[0m \u001b[0;34m>\u001b[0m \u001b[0;34m(\u001b[0m\u001b[0mQ3\u001b[0m \u001b[0;34m+\u001b[0m \u001b[0;36m1.5\u001b[0m \u001b[0;34m*\u001b[0m \u001b[0mIQR\u001b[0m\u001b[0;34m)\u001b[0m\u001b[0;34m)\u001b[0m\u001b[0;34m\u001b[0m\u001b[0;34m\u001b[0m\u001b[0m\n\u001b[0m",
      "\u001b[0;32m~/.local/lib/python3.6/site-packages/pandas/core/ops/__init__.py\u001b[0m in \u001b[0;36mf\u001b[0;34m(self, other, axis, level, fill_value)\u001b[0m\n\u001b[1;32m   1504\u001b[0m \u001b[0;34m\u001b[0m\u001b[0m\n\u001b[1;32m   1505\u001b[0m             \u001b[0;32massert\u001b[0m \u001b[0mnp\u001b[0m\u001b[0;34m.\u001b[0m\u001b[0mndim\u001b[0m\u001b[0;34m(\u001b[0m\u001b[0mother\u001b[0m\u001b[0;34m)\u001b[0m \u001b[0;34m==\u001b[0m \u001b[0;36m0\u001b[0m\u001b[0;34m\u001b[0m\u001b[0;34m\u001b[0m\u001b[0m\n\u001b[0;32m-> 1506\u001b[0;31m             \u001b[0;32mreturn\u001b[0m \u001b[0mself\u001b[0m\u001b[0;34m.\u001b[0m\u001b[0m_combine_const\u001b[0m\u001b[0;34m(\u001b[0m\u001b[0mother\u001b[0m\u001b[0;34m,\u001b[0m \u001b[0mop\u001b[0m\u001b[0;34m)\u001b[0m\u001b[0;34m\u001b[0m\u001b[0;34m\u001b[0m\u001b[0m\n\u001b[0m\u001b[1;32m   1507\u001b[0m \u001b[0;34m\u001b[0m\u001b[0m\n\u001b[1;32m   1508\u001b[0m     \u001b[0mf\u001b[0m\u001b[0;34m.\u001b[0m\u001b[0m__name__\u001b[0m \u001b[0;34m=\u001b[0m \u001b[0mop_name\u001b[0m\u001b[0;34m\u001b[0m\u001b[0;34m\u001b[0m\u001b[0m\n",
      "\u001b[0;32m~/.local/lib/python3.6/site-packages/pandas/core/frame.py\u001b[0m in \u001b[0;36m_combine_const\u001b[0;34m(self, other, func)\u001b[0m\n\u001b[1;32m   5416\u001b[0m     \u001b[0;32mdef\u001b[0m \u001b[0m_combine_const\u001b[0m\u001b[0;34m(\u001b[0m\u001b[0mself\u001b[0m\u001b[0;34m,\u001b[0m \u001b[0mother\u001b[0m\u001b[0;34m,\u001b[0m \u001b[0mfunc\u001b[0m\u001b[0;34m)\u001b[0m\u001b[0;34m:\u001b[0m\u001b[0;34m\u001b[0m\u001b[0;34m\u001b[0m\u001b[0m\n\u001b[1;32m   5417\u001b[0m         \u001b[0;32massert\u001b[0m \u001b[0mlib\u001b[0m\u001b[0;34m.\u001b[0m\u001b[0mis_scalar\u001b[0m\u001b[0;34m(\u001b[0m\u001b[0mother\u001b[0m\u001b[0;34m)\u001b[0m \u001b[0;32mor\u001b[0m \u001b[0mnp\u001b[0m\u001b[0;34m.\u001b[0m\u001b[0mndim\u001b[0m\u001b[0;34m(\u001b[0m\u001b[0mother\u001b[0m\u001b[0;34m)\u001b[0m \u001b[0;34m==\u001b[0m \u001b[0;36m0\u001b[0m\u001b[0;34m\u001b[0m\u001b[0;34m\u001b[0m\u001b[0m\n\u001b[0;32m-> 5418\u001b[0;31m         \u001b[0;32mreturn\u001b[0m \u001b[0mops\u001b[0m\u001b[0;34m.\u001b[0m\u001b[0mdispatch_to_series\u001b[0m\u001b[0;34m(\u001b[0m\u001b[0mself\u001b[0m\u001b[0;34m,\u001b[0m \u001b[0mother\u001b[0m\u001b[0;34m,\u001b[0m \u001b[0mfunc\u001b[0m\u001b[0;34m)\u001b[0m\u001b[0;34m\u001b[0m\u001b[0;34m\u001b[0m\u001b[0m\n\u001b[0m\u001b[1;32m   5419\u001b[0m \u001b[0;34m\u001b[0m\u001b[0m\n\u001b[1;32m   5420\u001b[0m     \u001b[0;32mdef\u001b[0m \u001b[0mcombine\u001b[0m\u001b[0;34m(\u001b[0m\u001b[0mself\u001b[0m\u001b[0;34m,\u001b[0m \u001b[0mother\u001b[0m\u001b[0;34m,\u001b[0m \u001b[0mfunc\u001b[0m\u001b[0;34m,\u001b[0m \u001b[0mfill_value\u001b[0m\u001b[0;34m=\u001b[0m\u001b[0;32mNone\u001b[0m\u001b[0;34m,\u001b[0m \u001b[0moverwrite\u001b[0m\u001b[0;34m=\u001b[0m\u001b[0;32mTrue\u001b[0m\u001b[0;34m)\u001b[0m\u001b[0;34m:\u001b[0m\u001b[0;34m\u001b[0m\u001b[0;34m\u001b[0m\u001b[0m\n",
      "\u001b[0;32m~/.local/lib/python3.6/site-packages/pandas/core/ops/__init__.py\u001b[0m in \u001b[0;36mdispatch_to_series\u001b[0;34m(left, right, func, str_rep, axis)\u001b[0m\n\u001b[1;32m    594\u001b[0m         \u001b[0;32mraise\u001b[0m \u001b[0mNotImplementedError\u001b[0m\u001b[0;34m(\u001b[0m\u001b[0mright\u001b[0m\u001b[0;34m)\u001b[0m\u001b[0;34m\u001b[0m\u001b[0;34m\u001b[0m\u001b[0m\n\u001b[1;32m    595\u001b[0m \u001b[0;34m\u001b[0m\u001b[0m\n\u001b[0;32m--> 596\u001b[0;31m     \u001b[0mnew_data\u001b[0m \u001b[0;34m=\u001b[0m \u001b[0mexpressions\u001b[0m\u001b[0;34m.\u001b[0m\u001b[0mevaluate\u001b[0m\u001b[0;34m(\u001b[0m\u001b[0mcolumn_op\u001b[0m\u001b[0;34m,\u001b[0m \u001b[0mstr_rep\u001b[0m\u001b[0;34m,\u001b[0m \u001b[0mleft\u001b[0m\u001b[0;34m,\u001b[0m \u001b[0mright\u001b[0m\u001b[0;34m)\u001b[0m\u001b[0;34m\u001b[0m\u001b[0;34m\u001b[0m\u001b[0m\n\u001b[0m\u001b[1;32m    597\u001b[0m \u001b[0;34m\u001b[0m\u001b[0m\n\u001b[1;32m    598\u001b[0m     \u001b[0mresult\u001b[0m \u001b[0;34m=\u001b[0m \u001b[0mleft\u001b[0m\u001b[0;34m.\u001b[0m\u001b[0m_constructor\u001b[0m\u001b[0;34m(\u001b[0m\u001b[0mnew_data\u001b[0m\u001b[0;34m,\u001b[0m \u001b[0mindex\u001b[0m\u001b[0;34m=\u001b[0m\u001b[0mleft\u001b[0m\u001b[0;34m.\u001b[0m\u001b[0mindex\u001b[0m\u001b[0;34m,\u001b[0m \u001b[0mcopy\u001b[0m\u001b[0;34m=\u001b[0m\u001b[0;32mFalse\u001b[0m\u001b[0;34m)\u001b[0m\u001b[0;34m\u001b[0m\u001b[0;34m\u001b[0m\u001b[0m\n",
      "\u001b[0;32m~/.local/lib/python3.6/site-packages/pandas/core/computation/expressions.py\u001b[0m in \u001b[0;36mevaluate\u001b[0;34m(op, op_str, a, b, use_numexpr, **eval_kwargs)\u001b[0m\n\u001b[1;32m    219\u001b[0m     \u001b[0muse_numexpr\u001b[0m \u001b[0;34m=\u001b[0m \u001b[0muse_numexpr\u001b[0m \u001b[0;32mand\u001b[0m \u001b[0m_bool_arith_check\u001b[0m\u001b[0;34m(\u001b[0m\u001b[0mop_str\u001b[0m\u001b[0;34m,\u001b[0m \u001b[0ma\u001b[0m\u001b[0;34m,\u001b[0m \u001b[0mb\u001b[0m\u001b[0;34m)\u001b[0m\u001b[0;34m\u001b[0m\u001b[0;34m\u001b[0m\u001b[0m\n\u001b[1;32m    220\u001b[0m     \u001b[0;32mif\u001b[0m \u001b[0muse_numexpr\u001b[0m\u001b[0;34m:\u001b[0m\u001b[0;34m\u001b[0m\u001b[0;34m\u001b[0m\u001b[0m\n\u001b[0;32m--> 221\u001b[0;31m         \u001b[0;32mreturn\u001b[0m \u001b[0m_evaluate\u001b[0m\u001b[0;34m(\u001b[0m\u001b[0mop\u001b[0m\u001b[0;34m,\u001b[0m \u001b[0mop_str\u001b[0m\u001b[0;34m,\u001b[0m \u001b[0ma\u001b[0m\u001b[0;34m,\u001b[0m \u001b[0mb\u001b[0m\u001b[0;34m,\u001b[0m \u001b[0;34m**\u001b[0m\u001b[0meval_kwargs\u001b[0m\u001b[0;34m)\u001b[0m\u001b[0;34m\u001b[0m\u001b[0;34m\u001b[0m\u001b[0m\n\u001b[0m\u001b[1;32m    222\u001b[0m     \u001b[0;32mreturn\u001b[0m \u001b[0m_evaluate_standard\u001b[0m\u001b[0;34m(\u001b[0m\u001b[0mop\u001b[0m\u001b[0;34m,\u001b[0m \u001b[0mop_str\u001b[0m\u001b[0;34m,\u001b[0m \u001b[0ma\u001b[0m\u001b[0;34m,\u001b[0m \u001b[0mb\u001b[0m\u001b[0;34m)\u001b[0m\u001b[0;34m\u001b[0m\u001b[0;34m\u001b[0m\u001b[0m\n\u001b[1;32m    223\u001b[0m \u001b[0;34m\u001b[0m\u001b[0m\n",
      "\u001b[0;32m~/.local/lib/python3.6/site-packages/pandas/core/computation/expressions.py\u001b[0m in \u001b[0;36m_evaluate_standard\u001b[0;34m(op, op_str, a, b, **eval_kwargs)\u001b[0m\n\u001b[1;32m     68\u001b[0m         \u001b[0m_store_test_result\u001b[0m\u001b[0;34m(\u001b[0m\u001b[0;32mFalse\u001b[0m\u001b[0;34m)\u001b[0m\u001b[0;34m\u001b[0m\u001b[0;34m\u001b[0m\u001b[0m\n\u001b[1;32m     69\u001b[0m     \u001b[0;32mwith\u001b[0m \u001b[0mnp\u001b[0m\u001b[0;34m.\u001b[0m\u001b[0merrstate\u001b[0m\u001b[0;34m(\u001b[0m\u001b[0mall\u001b[0m\u001b[0;34m=\u001b[0m\u001b[0;34m\"ignore\"\u001b[0m\u001b[0;34m)\u001b[0m\u001b[0;34m:\u001b[0m\u001b[0;34m\u001b[0m\u001b[0;34m\u001b[0m\u001b[0m\n\u001b[0;32m---> 70\u001b[0;31m         \u001b[0;32mreturn\u001b[0m \u001b[0mop\u001b[0m\u001b[0;34m(\u001b[0m\u001b[0ma\u001b[0m\u001b[0;34m,\u001b[0m \u001b[0mb\u001b[0m\u001b[0;34m)\u001b[0m\u001b[0;34m\u001b[0m\u001b[0;34m\u001b[0m\u001b[0m\n\u001b[0m\u001b[1;32m     71\u001b[0m \u001b[0;34m\u001b[0m\u001b[0m\n\u001b[1;32m     72\u001b[0m \u001b[0;34m\u001b[0m\u001b[0m\n",
      "\u001b[0;32m~/.local/lib/python3.6/site-packages/pandas/core/ops/__init__.py\u001b[0m in \u001b[0;36mcolumn_op\u001b[0;34m(a, b)\u001b[0m\n\u001b[1;32m    568\u001b[0m \u001b[0;34m\u001b[0m\u001b[0m\n\u001b[1;32m    569\u001b[0m         \u001b[0;32mdef\u001b[0m \u001b[0mcolumn_op\u001b[0m\u001b[0;34m(\u001b[0m\u001b[0ma\u001b[0m\u001b[0;34m,\u001b[0m \u001b[0mb\u001b[0m\u001b[0;34m)\u001b[0m\u001b[0;34m:\u001b[0m\u001b[0;34m\u001b[0m\u001b[0;34m\u001b[0m\u001b[0m\n\u001b[0;32m--> 570\u001b[0;31m             \u001b[0;32mreturn\u001b[0m \u001b[0;34m{\u001b[0m\u001b[0mi\u001b[0m\u001b[0;34m:\u001b[0m \u001b[0mfunc\u001b[0m\u001b[0;34m(\u001b[0m\u001b[0ma\u001b[0m\u001b[0;34m.\u001b[0m\u001b[0miloc\u001b[0m\u001b[0;34m[\u001b[0m\u001b[0;34m:\u001b[0m\u001b[0;34m,\u001b[0m \u001b[0mi\u001b[0m\u001b[0;34m]\u001b[0m\u001b[0;34m,\u001b[0m \u001b[0mb\u001b[0m\u001b[0;34m)\u001b[0m \u001b[0;32mfor\u001b[0m \u001b[0mi\u001b[0m \u001b[0;32min\u001b[0m \u001b[0mrange\u001b[0m\u001b[0;34m(\u001b[0m\u001b[0mlen\u001b[0m\u001b[0;34m(\u001b[0m\u001b[0ma\u001b[0m\u001b[0;34m.\u001b[0m\u001b[0mcolumns\u001b[0m\u001b[0;34m)\u001b[0m\u001b[0;34m)\u001b[0m\u001b[0;34m}\u001b[0m\u001b[0;34m\u001b[0m\u001b[0;34m\u001b[0m\u001b[0m\n\u001b[0m\u001b[1;32m    571\u001b[0m \u001b[0;34m\u001b[0m\u001b[0m\n\u001b[1;32m    572\u001b[0m     \u001b[0;32melif\u001b[0m \u001b[0misinstance\u001b[0m\u001b[0;34m(\u001b[0m\u001b[0mright\u001b[0m\u001b[0;34m,\u001b[0m \u001b[0mABCDataFrame\u001b[0m\u001b[0;34m)\u001b[0m\u001b[0;34m:\u001b[0m\u001b[0;34m\u001b[0m\u001b[0;34m\u001b[0m\u001b[0m\n",
      "\u001b[0;32m~/.local/lib/python3.6/site-packages/pandas/core/ops/__init__.py\u001b[0m in \u001b[0;36m<dictcomp>\u001b[0;34m(.0)\u001b[0m\n\u001b[1;32m    568\u001b[0m \u001b[0;34m\u001b[0m\u001b[0m\n\u001b[1;32m    569\u001b[0m         \u001b[0;32mdef\u001b[0m \u001b[0mcolumn_op\u001b[0m\u001b[0;34m(\u001b[0m\u001b[0ma\u001b[0m\u001b[0;34m,\u001b[0m \u001b[0mb\u001b[0m\u001b[0;34m)\u001b[0m\u001b[0;34m:\u001b[0m\u001b[0;34m\u001b[0m\u001b[0;34m\u001b[0m\u001b[0m\n\u001b[0;32m--> 570\u001b[0;31m             \u001b[0;32mreturn\u001b[0m \u001b[0;34m{\u001b[0m\u001b[0mi\u001b[0m\u001b[0;34m:\u001b[0m \u001b[0mfunc\u001b[0m\u001b[0;34m(\u001b[0m\u001b[0ma\u001b[0m\u001b[0;34m.\u001b[0m\u001b[0miloc\u001b[0m\u001b[0;34m[\u001b[0m\u001b[0;34m:\u001b[0m\u001b[0;34m,\u001b[0m \u001b[0mi\u001b[0m\u001b[0;34m]\u001b[0m\u001b[0;34m,\u001b[0m \u001b[0mb\u001b[0m\u001b[0;34m)\u001b[0m \u001b[0;32mfor\u001b[0m \u001b[0mi\u001b[0m \u001b[0;32min\u001b[0m \u001b[0mrange\u001b[0m\u001b[0;34m(\u001b[0m\u001b[0mlen\u001b[0m\u001b[0;34m(\u001b[0m\u001b[0ma\u001b[0m\u001b[0;34m.\u001b[0m\u001b[0mcolumns\u001b[0m\u001b[0;34m)\u001b[0m\u001b[0;34m)\u001b[0m\u001b[0;34m}\u001b[0m\u001b[0;34m\u001b[0m\u001b[0;34m\u001b[0m\u001b[0m\n\u001b[0m\u001b[1;32m    571\u001b[0m \u001b[0;34m\u001b[0m\u001b[0m\n\u001b[1;32m    572\u001b[0m     \u001b[0;32melif\u001b[0m \u001b[0misinstance\u001b[0m\u001b[0;34m(\u001b[0m\u001b[0mright\u001b[0m\u001b[0;34m,\u001b[0m \u001b[0mABCDataFrame\u001b[0m\u001b[0;34m)\u001b[0m\u001b[0;34m:\u001b[0m\u001b[0;34m\u001b[0m\u001b[0;34m\u001b[0m\u001b[0m\n",
      "\u001b[0;32m~/.local/lib/python3.6/site-packages/pandas/core/ops/roperator.py\u001b[0m in \u001b[0;36mror_\u001b[0;34m(left, right)\u001b[0m\n\u001b[1;32m     55\u001b[0m \u001b[0;34m\u001b[0m\u001b[0m\n\u001b[1;32m     56\u001b[0m \u001b[0;32mdef\u001b[0m \u001b[0mror_\u001b[0m\u001b[0;34m(\u001b[0m\u001b[0mleft\u001b[0m\u001b[0;34m,\u001b[0m \u001b[0mright\u001b[0m\u001b[0;34m)\u001b[0m\u001b[0;34m:\u001b[0m\u001b[0;34m\u001b[0m\u001b[0;34m\u001b[0m\u001b[0m\n\u001b[0;32m---> 57\u001b[0;31m     \u001b[0;32mreturn\u001b[0m \u001b[0moperator\u001b[0m\u001b[0;34m.\u001b[0m\u001b[0mor_\u001b[0m\u001b[0;34m(\u001b[0m\u001b[0mright\u001b[0m\u001b[0;34m,\u001b[0m \u001b[0mleft\u001b[0m\u001b[0;34m)\u001b[0m\u001b[0;34m\u001b[0m\u001b[0;34m\u001b[0m\u001b[0m\n\u001b[0m\u001b[1;32m     58\u001b[0m \u001b[0;34m\u001b[0m\u001b[0m\n\u001b[1;32m     59\u001b[0m \u001b[0;34m\u001b[0m\u001b[0m\n",
      "\u001b[0;32m~/.local/lib/python3.6/site-packages/pandas/core/ops/__init__.py\u001b[0m in \u001b[0;36mwrapper\u001b[0;34m(self, other)\u001b[0m\n\u001b[1;32m   1319\u001b[0m         \u001b[0;31m#   integer dtypes.  Otherwise these are boolean ops\u001b[0m\u001b[0;34m\u001b[0m\u001b[0;34m\u001b[0m\u001b[0;34m\u001b[0m\u001b[0m\n\u001b[1;32m   1320\u001b[0m         \u001b[0mfiller\u001b[0m \u001b[0;34m=\u001b[0m \u001b[0mfill_int\u001b[0m \u001b[0;32mif\u001b[0m \u001b[0mis_self_int_dtype\u001b[0m \u001b[0;32mand\u001b[0m \u001b[0mis_other_int_dtype\u001b[0m \u001b[0;32melse\u001b[0m \u001b[0mfill_bool\u001b[0m\u001b[0;34m\u001b[0m\u001b[0;34m\u001b[0m\u001b[0m\n\u001b[0;32m-> 1321\u001b[0;31m         \u001b[0mres_values\u001b[0m \u001b[0;34m=\u001b[0m \u001b[0mna_op\u001b[0m\u001b[0;34m(\u001b[0m\u001b[0mself\u001b[0m\u001b[0;34m.\u001b[0m\u001b[0mvalues\u001b[0m\u001b[0;34m,\u001b[0m \u001b[0movalues\u001b[0m\u001b[0;34m)\u001b[0m\u001b[0;34m\u001b[0m\u001b[0;34m\u001b[0m\u001b[0m\n\u001b[0m\u001b[1;32m   1322\u001b[0m         \u001b[0munfilled\u001b[0m \u001b[0;34m=\u001b[0m \u001b[0mself\u001b[0m\u001b[0;34m.\u001b[0m\u001b[0m_constructor\u001b[0m\u001b[0;34m(\u001b[0m\u001b[0mres_values\u001b[0m\u001b[0;34m,\u001b[0m \u001b[0mindex\u001b[0m\u001b[0;34m=\u001b[0m\u001b[0mself\u001b[0m\u001b[0;34m.\u001b[0m\u001b[0mindex\u001b[0m\u001b[0;34m,\u001b[0m \u001b[0mname\u001b[0m\u001b[0;34m=\u001b[0m\u001b[0mres_name\u001b[0m\u001b[0;34m)\u001b[0m\u001b[0;34m\u001b[0m\u001b[0;34m\u001b[0m\u001b[0m\n\u001b[1;32m   1323\u001b[0m         \u001b[0mfilled\u001b[0m \u001b[0;34m=\u001b[0m \u001b[0mfiller\u001b[0m\u001b[0;34m(\u001b[0m\u001b[0munfilled\u001b[0m\u001b[0;34m)\u001b[0m\u001b[0;34m\u001b[0m\u001b[0;34m\u001b[0m\u001b[0m\n",
      "\u001b[0;32m~/.local/lib/python3.6/site-packages/pandas/core/ops/__init__.py\u001b[0m in \u001b[0;36mna_op\u001b[0;34m(x, y)\u001b[0m\n\u001b[1;32m   1278\u001b[0m                         \u001b[0;34m\"cannot compare a dtyped [{dtype}] array \"\u001b[0m\u001b[0;34m\u001b[0m\u001b[0;34m\u001b[0m\u001b[0m\n\u001b[1;32m   1279\u001b[0m                         \"with a scalar of type [{typ}]\".format(\n\u001b[0;32m-> 1280\u001b[0;31m                             \u001b[0mdtype\u001b[0m\u001b[0;34m=\u001b[0m\u001b[0mx\u001b[0m\u001b[0;34m.\u001b[0m\u001b[0mdtype\u001b[0m\u001b[0;34m,\u001b[0m \u001b[0mtyp\u001b[0m\u001b[0;34m=\u001b[0m\u001b[0mtype\u001b[0m\u001b[0;34m(\u001b[0m\u001b[0my\u001b[0m\u001b[0;34m)\u001b[0m\u001b[0;34m.\u001b[0m\u001b[0m__name__\u001b[0m\u001b[0;34m\u001b[0m\u001b[0;34m\u001b[0m\u001b[0m\n\u001b[0m\u001b[1;32m   1281\u001b[0m                         )\n\u001b[1;32m   1282\u001b[0m                     )\n",
      "\u001b[0;31mTypeError\u001b[0m: cannot compare a dtyped [bool] array with a scalar of type [NoneType]"
     ]
    }
   ],
   "source": [
    "print(df < (Q1 - 1.5 * IQR)) | (df > (Q3 + 1.5 * IQR))"
   ]
  },
  {
   "cell_type": "markdown",
   "metadata": {},
   "source": [
    "# Isolation Forests\n",
    "The z-score works by ..."
   ]
  },
  {
   "cell_type": "code",
   "execution_count": null,
   "metadata": {},
   "outputs": [],
   "source": []
  },
  {
   "cell_type": "code",
   "execution_count": null,
   "metadata": {},
   "outputs": [],
   "source": []
  }
 ],
 "metadata": {
  "kernelspec": {
   "display_name": "Python 3",
   "language": "python",
   "name": "python3"
  },
  "language_info": {
   "codemirror_mode": {
    "name": "ipython",
    "version": 3
   },
   "file_extension": ".py",
   "mimetype": "text/x-python",
   "name": "python",
   "nbconvert_exporter": "python",
   "pygments_lexer": "ipython3",
   "version": "3.6.9"
  }
 },
 "nbformat": 4,
 "nbformat_minor": 2
}
